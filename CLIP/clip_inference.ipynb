{
 "cells": [
  {
   "cell_type": "code",
   "execution_count": 8,
   "metadata": {},
   "outputs": [],
   "source": [
    "import torch\n",
    "import clip\n",
    "from PIL import Image\n",
    "import os\n",
    "import matplotlib.pyplot as plt  # Import the matplotlib library for image visualization\n",
    "import json\n",
    "\n",
    "# Check if CUDA (GPU) is available, otherwise use CPU\n",
    "device = \"cuda\" if torch.cuda.is_available() else \"cpu\""
   ]
  },
  {
   "cell_type": "code",
   "execution_count": 3,
   "metadata": {},
   "outputs": [],
   "source": [
    "# Load the CLIP model and preprocessing pipeline\n",
    "model, preprocess = clip.load(\"ViT-B/32\", device=device)"
   ]
  },
  {
   "cell_type": "code",
   "execution_count": 4,
   "metadata": {},
   "outputs": [],
   "source": [
    "# List of clothing items for comparison\n",
    "clothing_items = [\n",
    "    \"Saree\",\n",
    "    \"Lehenga\",\n",
    "    \"Women Kurta\",\n",
    "    \"Dupatta\",\n",
    "    \"Gown\",\n",
    "    \"Nehru Jacket\",\n",
    "    \"Sherwani\",\n",
    "    \"Men Kurta\",\n",
    "    \"Men Mojari\",\n",
    "    \"Leggings and Salwar\",\n",
    "    \"Blouse\",\n",
    "    \"Palazzo\",\n",
    "    \"Dhoti Pants\",\n",
    "    \"Petticoat\",\n",
    "    \"Women Mojari\"\n",
    "]"
   ]
  },
  {
   "cell_type": "code",
   "execution_count": 9,
   "metadata": {},
   "outputs": [],
   "source": [
    "json_path = 'archive/test_data.json'\n"
   ]
  },
  {
   "cell_type": "code",
   "execution_count": 10,
   "metadata": {},
   "outputs": [],
   "source": [
    "input_data = []\n",
    "with open(json_path, 'r') as f:\n",
    "    for line in f:\n",
    "        obj = json.loads(line)\n",
    "        input_data.append(obj)"
   ]
  },
  {
   "cell_type": "code",
   "execution_count": 12,
   "metadata": {},
   "outputs": [
    {
     "data": {
      "text/plain": [
       "{'image_url': 'https://m.media-amazon.com/images/I/81aTdjyWllL._AC_UL320_.jpg',\n",
       " 'image_path': 'images/test/500.jpeg',\n",
       " 'brand': 'Cotton colors',\n",
       " 'product_title': \"Plain Cloth Pieces for Women's Blouse of Silk 1 Meter_H!\",\n",
       " 'class_label': 'blouse'}"
      ]
     },
     "execution_count": 12,
     "metadata": {},
     "output_type": "execute_result"
    }
   ],
   "source": [
    "input_data[500]"
   ]
  },
  {
   "cell_type": "code",
   "execution_count": 37,
   "metadata": {},
   "outputs": [],
   "source": [
    "# Index of the input data you want to analyze\n",
    "index_ = 499\n",
    "\n",
    "# Assuming 'input_data' is a list of JSON-like objects with image information\n",
    "image_json = input_data[index_]\n",
    "\n",
    "# Construct the full path to the image file using the given 'image_path'\n",
    "image_path = os.path.join(\"archive/\", image_json['image_path'])\n",
    "\n",
    "# Get the class label of the image\n",
    "image_class = image_json['class_label']\n",
    "\n",
    "# Preprocess the image and move it to the appropriate device (CPU or GPU)\n",
    "image = preprocess(Image.open(image_path)).unsqueeze(0).to(device)\n",
    "\n",
    "# Tokenize and move the clothing item names to the appropriate device\n",
    "text = torch.cat([clip.tokenize(f\"a photo of a {c}\") for c in clothing_items]).to(device)"
   ]
  },
  {
   "cell_type": "code",
   "execution_count": 38,
   "metadata": {},
   "outputs": [],
   "source": [
    "# Perform inference\n",
    "with torch.no_grad():\n",
    "    # Encode image and text\n",
    "    image_features = model.encode_image(image)\n",
    "    text_features = model.encode_text(text)\n",
    "    \n",
    "    # Calculate similarity scores between image and text\n",
    "    logits_per_image, logits_per_text = model(image, text)\n",
    "    probs = logits_per_image.softmax(dim=-1).cpu().numpy()"
   ]
  },
  {
   "cell_type": "code",
   "execution_count": 39,
   "metadata": {},
   "outputs": [],
   "source": [
    "image_features /= image_features.norm(dim=-1, keepdim=True)\n",
    "text_features /= text_features.norm(dim=-1, keepdim=True)"
   ]
  },
  {
   "cell_type": "code",
   "execution_count": 40,
   "metadata": {},
   "outputs": [],
   "source": [
    "# Calculate similarity scores\n",
    "similarity = (100.0 * image_features @ text_features.T).softmax(dim=-1)\n",
    "values, indices = similarity[0].topk(5)"
   ]
  },
  {
   "cell_type": "code",
   "execution_count": 41,
   "metadata": {},
   "outputs": [
    {
     "name": "stdout",
     "output_type": "stream",
     "text": [
      "\n",
      "Top predictions:\n",
      "\n",
      "           Saree: 57.96%\n",
      "Leggings and Salwar: 31.03%\n",
      "         Dupatta: 4.33%\n",
      "         Lehenga: 3.71%\n",
      "     Dhoti Pants: 1.10%\n"
     ]
    }
   ],
   "source": [
    "# Print the top predictions\n",
    "print(\"\\nTop predictions:\\n\")\n",
    "for value, index in zip(values, indices):\n",
    "    print(f\"{clothing_items[index]:>16s}: {100 * value.item():.2f}%\")"
   ]
  },
  {
   "cell_type": "code",
   "execution_count": null,
   "metadata": {},
   "outputs": [],
   "source": []
  }
 ],
 "metadata": {
  "kernelspec": {
   "display_name": "Python 3 (ipykernel)",
   "language": "python",
   "name": "python3"
  },
  "language_info": {
   "codemirror_mode": {
    "name": "ipython",
    "version": 3
   },
   "file_extension": ".py",
   "mimetype": "text/x-python",
   "name": "python",
   "nbconvert_exporter": "python",
   "pygments_lexer": "ipython3",
   "version": "3.11.8"
  }
 },
 "nbformat": 4,
 "nbformat_minor": 5
}
