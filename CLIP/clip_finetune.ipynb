{
 "cells": [
  {
   "cell_type": "code",
   "execution_count": 1,
   "metadata": {},
   "outputs": [],
   "source": [
    "import json\n",
    "\n",
    "#For Loading Images\n",
    "from PIL import Image\n",
    "\n",
    "#For displaying loadbar\n",
    "from tqdm import tqdm\n",
    "\n",
    "#Importing pytorch to finetune our clip\n",
    "import torch\n",
    "import torch.nn as nn\n",
    "from torch.utils.data import DataLoader\n",
    "\n",
    "#Here, we import clip model\n",
    "import clip\n",
    "\n",
    "#Constructs a CLIP processor which wraps a CLIP image processor and a CLIP tokenizer into a single processor.\n",
    "from transformers import CLIPProcessor, CLIPModel"
   ]
  },
  {
   "cell_type": "code",
   "execution_count": 2,
   "metadata": {},
   "outputs": [],
   "source": [
    "json_path = 'rsicd/annotations.json'\n",
    "image_path = 'rsicd/images/'"
   ]
  },
  {
   "cell_type": "code",
   "execution_count": 3,
   "metadata": {},
   "outputs": [],
   "source": [
    "f = open(json_path)\n",
    "data = json.load(f)\n",
    "input_data = data['images']\n",
    "f.close()"
   ]
  },
  {
   "cell_type": "code",
   "execution_count": 4,
   "metadata": {},
   "outputs": [],
   "source": [
    "model = CLIPModel.from_pretrained(\"openai/clip-vit-base-patch32\")\n",
    "processor = CLIPProcessor.from_pretrained(\"openai/clip-vit-base-patch32\")"
   ]
  },
  {
   "cell_type": "code",
   "execution_count": 5,
   "metadata": {},
   "outputs": [],
   "source": [
    "device = \"cuda:0\" if torch.cuda.is_available() else \"cpu\" "
   ]
  },
  {
   "cell_type": "code",
   "execution_count": 6,
   "metadata": {},
   "outputs": [],
   "source": [
    "model, preprocess = clip.load(\"ViT-B/32\", device=device, jit=False)\n"
   ]
  },
  {
   "cell_type": "code",
   "execution_count": 7,
   "metadata": {},
   "outputs": [],
   "source": [
    "class image_title_dataset():\n",
    "    def __init__(self, list_image_path, list_txt):\n",
    "        # Initialize image paths and corresponding texts\n",
    "        self.image_path = list_image_path\n",
    "\n",
    "        # Tokenize text using CLIP's tokenizer\n",
    "        self.title = clip.tokenize(list_txt)\n",
    "\n",
    "    def __len__(self):\n",
    "        # Define the length of the dataset\n",
    "        return len(self.title)\n",
    "\n",
    "    def __getitem__(self, idx):\n",
    "\n",
    "        # Get an item from the dataset\n",
    "        # Preprocess image using CLIP's preprocessing function\n",
    "\n",
    "        image = preprocess(Image.open(self.image_path[idx]))\n",
    "        title = self.title[idx]\n",
    "        return image, title"
   ]
  },
  {
   "cell_type": "code",
   "execution_count": 8,
   "metadata": {},
   "outputs": [],
   "source": [
    "list_image_path = []\n",
    "list_txt = []\n",
    "for item in input_data:\n",
    "    img_path = image_path + item['filename']\n",
    "  \n",
    "  #As we have image text pair, we use product title as description.\n",
    "    caption = item['sentences'][0]['raw']\n",
    "    #input_data[0]['sentences'][0]['raw']\n",
    "    list_image_path.append(img_path)\n",
    "    list_txt.append(caption)\n",
    "\n",
    "dataset = image_title_dataset(list_image_path, list_txt)\n",
    "train_dataloader = DataLoader(dataset, batch_size=50, shuffle=True) \n",
    "#Define your own dataloader\n",
    "\n",
    "# Function to convert model's parameters to FP32 format\n",
    "#This is done so that our model loads in the provided memory.\n",
    "def convert_models_to_fp32(model): \n",
    "    for p in model.parameters(): \n",
    "        p.data = p.data.float() \n",
    "        p.grad.data = p.grad.data.float() "
   ]
  },
  {
   "cell_type": "code",
   "execution_count": 9,
   "metadata": {},
   "outputs": [],
   "source": [
    "# Check if the device is set to CPU\n",
    "if device == \"cpu\":\n",
    "    model.float()  # Convert the model's parameters to float if using CPU\n",
    "\n",
    "# Prepare the optimizer\n",
    "optimizer = torch.optim.Adam(model.parameters(), lr=5e-5, betas=(0.9, 0.98), eps=1e-6 ,weight_decay=0.2) \n",
    "    \n",
    "# Adam optimizer is used with specific hyperparameters\n",
    "# lr (learning rate) is set to 5e-5, which is considered safe for fine-tuning to a new dataset\n",
    "# betas are used for the optimization algorithm\n",
    "# eps is a small value to prevent division by zero\n",
    "# weight_decay adds L2 regularization to the optimizer\n",
    "\n",
    "# Specify the loss function for images\n",
    "loss_img = nn.CrossEntropyLoss()\n",
    "\n",
    "# Specify the loss function for text\n",
    "loss_txt = nn.CrossEntropyLoss()"
   ]
  },
  {
   "cell_type": "code",
   "execution_count": 10,
   "metadata": {},
   "outputs": [
    {
     "name": "stderr",
     "output_type": "stream",
     "text": [
      " 25%|█████████████████████                                                               | 1/4 [01:39<04:57, 99.18s/it]\n",
      "\n",
      "KeyboardInterrupt\n",
      "\n"
     ]
    }
   ],
   "source": [
    "num_epochs = 4 # Number of training epochs\n",
    "for epoch in tqdm(range(num_epochs)):\n",
    "    \n",
    "    # Iterate through the batches in the training data\n",
    "    for batch in train_dataloader:\n",
    "        optimizer.zero_grad()  # Zero out gradients for the optimizer\n",
    "        \n",
    "        # Extract images and texts from the batch\n",
    "        images, texts = batch\n",
    "        \n",
    "        # Print the current device (CPU or GPU)\n",
    "#         print(device)\n",
    "        \n",
    "        # Move images and texts to the specified device (CPU or GPU)\n",
    "        images = images.to(device)\n",
    "        texts = texts.to(device)\n",
    "\n",
    "        # Forward pass through the model\n",
    "        logits_per_image, logits_per_text = model(images, texts)\n",
    "\n",
    "        # Compute the loss\n",
    "        ground_truth = torch.arange(len(images), dtype=torch.long, device=device)\n",
    "        total_loss = (loss_img(logits_per_image, ground_truth) + loss_txt(logits_per_text, ground_truth)) / 2\n",
    "\n",
    "        # Backward pass and update the model's parameters\n",
    "        total_loss.backward()\n",
    "        \n",
    "        # If the device is CPU, directly update the model\n",
    "        if device == \"cpu\":\n",
    "            optimizer.step()\n",
    "        else:\n",
    "            # Convert model's parameters to FP32 format, update, and convert back\n",
    "            convert_models_to_fp32(model)\n",
    "            optimizer.step()\n",
    "            clip.model.convert_weights(model)"
   ]
  },
  {
   "cell_type": "code",
   "execution_count": null,
   "metadata": {},
   "outputs": [],
   "source": []
  }
 ],
 "metadata": {
  "kernelspec": {
   "display_name": "fastai_diff",
   "language": "python",
   "name": "fastai_diff"
  },
  "language_info": {
   "codemirror_mode": {
    "name": "ipython",
    "version": 3
   },
   "file_extension": ".py",
   "mimetype": "text/x-python",
   "name": "python",
   "nbconvert_exporter": "python",
   "pygments_lexer": "ipython3",
   "version": "3.9.15"
  }
 },
 "nbformat": 4,
 "nbformat_minor": 5
}
